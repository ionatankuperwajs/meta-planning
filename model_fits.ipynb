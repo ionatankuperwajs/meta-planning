{
 "cells": [
  {
   "cell_type": "markdown",
   "id": "b57ae5c2",
   "metadata": {},
   "source": [
    "# Preprocessing and analysis for the 4-in-a-row model fits"
   ]
  },
  {
   "cell_type": "code",
   "execution_count": 1,
   "id": "dca58549",
   "metadata": {},
   "outputs": [],
   "source": [
    "import json\n",
    "import re\n",
    "import random\n",
    "import csv\n",
    "import numpy as np\n",
    "import matplotlib as mpl\n",
    "import matplotlib.pyplot as plt\n",
    "import os\n",
    "import pandas as pd\n",
    "import scipy.stats as st\n",
    "from numpy.polynomial.polynomial import polyfit\n",
    "from scipy.optimize import curve_fit\n",
    "from matplotlib.lines import Line2D\n",
    "import itertools"
   ]
  },
  {
   "cell_type": "code",
   "execution_count": 2,
   "id": "c3806ff9",
   "metadata": {},
   "outputs": [],
   "source": [
    "# Increase font size a bit\n",
    "plt.rcParams.update({'font.size': 16})"
   ]
  },
  {
   "cell_type": "markdown",
   "id": "553b7114",
   "metadata": {},
   "source": [
    "## Preprocessing"
   ]
  },
  {
   "cell_type": "code",
   "execution_count": 2,
   "id": "e88af6fd",
   "metadata": {},
   "outputs": [],
   "source": [
    "# Open full filtered dataset\n",
    "with open('../../../Peak/Code/peak-analysis/saved_analyses_updated/AI_filter.txt', 'r') as filehandle:  \n",
    "    games_filtered = json.load(filehandle)"
   ]
  },
  {
   "cell_type": "code",
   "execution_count": 3,
   "id": "8121984d",
   "metadata": {},
   "outputs": [],
   "source": [
    "with open('../../../Peak/Code/peak-analysis/saved_analyses_updated/numgames_user.txt', 'r') as filehandle:  \n",
    "    num_games = json.load(filehandle)"
   ]
  },
  {
   "cell_type": "code",
   "execution_count": 4,
   "id": "bc0b6b88",
   "metadata": {},
   "outputs": [],
   "source": [
    "# Put all users with at least 20 games in a set\n",
    "select_users = set()\n",
    "for user in num_games:\n",
    "    if num_games[user] == 20:\n",
    "        select_users.add(user)\n",
    "        \n",
    "# Now create a dictionary with user IDs and each game path that corresponds to the user\n",
    "select_dict = dict((el,[]) for el in select_users)\n",
    "\n",
    "for game in games_filtered:\n",
    "    ID = game[36:46]\n",
    "    if ID in select_users:\n",
    "        select_dict[ID].append(game)"
   ]
  },
  {
   "cell_type": "code",
   "execution_count": 5,
   "id": "16df4d73",
   "metadata": {},
   "outputs": [
    {
     "data": {
      "text/plain": [
       "['KbVxLgvqLV',\n",
       " 'vJMzGyQqfD',\n",
       " 'iofXRfyBWp',\n",
       " 'CokTgtPoEy',\n",
       " 'vLSxDpjQkD',\n",
       " 'BMnczkFJwv',\n",
       " 'VkjSrtLedv',\n",
       " 'FrNdmCyLnV',\n",
       " 'hQLfTDAFDf',\n",
       " 'BplsuMjmHj',\n",
       " 'MKwhSeTtWT',\n",
       " 'JewmvMdaMi',\n",
       " 'jGnAEgphcc',\n",
       " 'DpcbMRdHZf',\n",
       " 'OhkAyVsYsZ',\n",
       " 'kFLjMOrAlv',\n",
       " 'dzSPSQXkWo',\n",
       " 'pexwLMQkIc',\n",
       " 'NopEUidkpc',\n",
       " 'PTguZBxgXK',\n",
       " 'QrOaYJIRfX',\n",
       " 'SkOyVWfxgA',\n",
       " 'pIAJojyFPI',\n",
       " 'QJFGbtvFga',\n",
       " 'dLYIZnyUil',\n",
       " 'tQlEmSAMXk',\n",
       " 'yNxQnSsMhm',\n",
       " 'XvpzSRZAmh',\n",
       " 'OKLkkmsBlQ',\n",
       " 'YViZscfWAu',\n",
       " 'uapqqksJfH',\n",
       " 'dpsPyjUISO',\n",
       " 'ytGGtHNbeh',\n",
       " 'DQmRfgoMXp',\n",
       " 'hYtejLPjGe',\n",
       " 'wIyHNcmqWC',\n",
       " 'yvEkCDCGaG',\n",
       " 'whnQBiPPPD',\n",
       " 'lNSjiZCTmh',\n",
       " 'QIkHiZRWfy',\n",
       " 'MXyAPxgpSN',\n",
       " 'cFZVmimBxV',\n",
       " 'TsPBHqnfnr',\n",
       " 'BZRBcvuClT',\n",
       " 'OgWvrfvGwO',\n",
       " 'fwyESZsUqu',\n",
       " 'DSczsKrIjb',\n",
       " 'PEQWttmgtX',\n",
       " 'mVfyxWYkgV',\n",
       " 'KPWaVkHQcA',\n",
       " 'nXxZxNkDCQ',\n",
       " 'phkbdzEWeO',\n",
       " 'XkhAUCicjS',\n",
       " 'rkwTRFulzM',\n",
       " 'jaSiKGGNKI',\n",
       " 'wEIYqYloar',\n",
       " 'fpBGLNKnwK',\n",
       " 'yuinbifyhB',\n",
       " 'eUAftNkeee',\n",
       " 'DLUIOUFfmV',\n",
       " 'VjDgEPvdqm',\n",
       " 'FoHgvPVDxa',\n",
       " 'SOPBEctKRH',\n",
       " 'ffSYKMJwrs',\n",
       " 'ckFOxBgviN',\n",
       " 'zPxyZkqIRj',\n",
       " 'TOwlavjHbG',\n",
       " 'BqKIxCmZDw',\n",
       " 'ETnuMDPAXH',\n",
       " 'MeNfunuYIy',\n",
       " 'IPEROWivzO',\n",
       " 'FHpAsvyELC',\n",
       " 'thxWFcCEii',\n",
       " 'nLxyZNBnVp',\n",
       " 'vsJNpadJxw',\n",
       " 'rpTfEatLFd',\n",
       " 'QuxsxAjPZk',\n",
       " 'vOXTxvwXaW',\n",
       " 'mDoOjcrAhf',\n",
       " 'eYFmydFJxo',\n",
       " 'IkqZdLMCVk',\n",
       " 'arwtVyAAdC',\n",
       " 'WRyUGxFTOh',\n",
       " 'LCuMhcovvR',\n",
       " 'LsTqqecSVy',\n",
       " 'DcvMjsIclB',\n",
       " 'pDjGpbltjC',\n",
       " 'RUNAyKXUlR',\n",
       " 'pqWCGUpyJt',\n",
       " 'oCabshUZdA',\n",
       " 'vZNQmJNiqH',\n",
       " 'fWiBjouyxN',\n",
       " 'PtFaIcexTf',\n",
       " 'UoDQnsaDGl',\n",
       " 'BgpjPYRfzq',\n",
       " 'ZgeknycVDu',\n",
       " 'pDqGxdllCm',\n",
       " 'YmRcvGlhpn',\n",
       " 'ZKTkUvJzmJ',\n",
       " 'azsbgezSLe']"
      ]
     },
     "execution_count": 5,
     "metadata": {},
     "output_type": "execute_result"
    }
   ],
   "source": [
    "# Pick a small subset of the users for fitting\n",
    "user_sample = dict(random.sample(select_dict.items(), 100))\n",
    "list(user_sample.keys())"
   ]
  },
  {
   "cell_type": "code",
   "execution_count": 6,
   "id": "1a59e0d5",
   "metadata": {},
   "outputs": [],
   "source": [
    "# Function to get all of the moves in a game and return them in a list\n",
    "def get_moves_from_json(data):\n",
    "    return [d['positionValue'] for d in data['data']['rounds'][-1]['analytic']['events'] if d['stateString']=='Turn']"
   ]
  },
  {
   "cell_type": "code",
   "execution_count": 7,
   "id": "947850eb",
   "metadata": {},
   "outputs": [],
   "source": [
    "# Function to get the total game length (number of moves + timed out moves) for a single game\n",
    "def get_game_length(data):\n",
    "    game_length = 0\n",
    "    for i in data['data']['rounds'][-1]['analytic']['events']:\n",
    "        if i['stateString'] == 'Turn':\n",
    "            game_length +=1\n",
    "    return game_length"
   ]
  },
  {
   "cell_type": "code",
   "execution_count": 8,
   "id": "1e037d44",
   "metadata": {},
   "outputs": [],
   "source": [
    "# Function to return integer code for a list of moves\n",
    "def encode_move_list(moves):\n",
    "    return np.sum([2**m for m in moves])"
   ]
  },
  {
   "cell_type": "code",
   "execution_count": 9,
   "id": "e93aa2e2",
   "metadata": {},
   "outputs": [
    {
     "name": "stdout",
     "output_type": "stream",
     "text": [
      "vJMzGyQqfD {'stateString': 'Pause'}\n",
      "iofXRfyBWp {'stateString': 'Pause'}\n",
      "FrNdmCyLnV {'stateString': 'Pause'}\n",
      "hQLfTDAFDf {'stateString': 'Pause'}\n",
      "JewmvMdaMi {'stateString': 'Resume'}\n",
      "dzSPSQXkWo {'stateString': 'Pause'}\n",
      "dzSPSQXkWo {'stateString': 'Pause'}\n",
      "SkOyVWfxgA {'stateString': 'Pause'}\n",
      "SkOyVWfxgA {'stateString': 'Pause'}\n",
      "hYtejLPjGe {'stateString': 'Pause'}\n",
      "lNSjiZCTmh {'stateString': 'Pause'}\n",
      "cFZVmimBxV {'stateString': 'Resume'}\n",
      "cFZVmimBxV {'stateString': 'Pause'}\n",
      "TsPBHqnfnr {'stateString': 'Pause'}\n",
      "KPWaVkHQcA {'stateString': 'Pause'}\n",
      "jaSiKGGNKI {'stateString': 'Pause'}\n",
      "eUAftNkeee {'stateString': 'Resume'}\n",
      "SOPBEctKRH {'stateString': 'Pause'}\n",
      "TOwlavjHbG {'stateString': 'Pause'}\n",
      "TOwlavjHbG {'stateString': 'Pause'}\n",
      "ETnuMDPAXH {'stateString': 'Pause'}\n",
      "LCuMhcovvR {'stateString': 'Pause'}\n",
      "LCuMhcovvR {'stateString': 'Pause'}\n",
      "DcvMjsIclB {'stateString': 'Pause'}\n",
      "pDjGpbltjC {'stateString': 'Resume'}\n",
      "pDqGxdllCm {'stateString': 'Resume'}\n",
      "azsbgezSLe {'stateString': 'Pause'}\n"
     ]
    }
   ],
   "source": [
    "# Loop through each game to get the info we need: board state, chosen move, response time, player ID for each move\n",
    "for userID, path_list in user_sample.items():\n",
    "    player = userID\n",
    "    with open('raw/' + player + '.csv','w') as f1:\n",
    "        writer=csv.writer(f1, delimiter='\\t',lineterminator='\\n',)\n",
    "        for i in range(len(path_list)):\n",
    "            game = path_list[i]\n",
    "            with(open(game)) as f:\n",
    "                data = json.load(f)\n",
    "\n",
    "                # Get all moves in a list\n",
    "                all_moves = get_moves_from_json(data)\n",
    "\n",
    "                # Get game length\n",
    "                game_length = get_game_length(data)\n",
    "\n",
    "                # Loop through each turn, get info that's left, and write to a new line in the csv\n",
    "                for turn in range(0,game_length,2):\n",
    "                    if data['data']['rounds'][-1]['analytic']['events'][turn]['stateString'] == 'Pause':\n",
    "                        print(player, data['data']['rounds'][turn]['analytic']['events'][turn])\n",
    "                    elif data['data']['rounds'][-1]['analytic']['events'][turn]['stateString'] == 'Resume':\n",
    "                        print(player, data['data']['rounds'][turn]['analytic']['events'][turn])\n",
    "                    elif data['data']['rounds'][-1]['analytic']['events'][turn]['playerString'] == 'player':\n",
    "                        response_time = data['data']['rounds'][turn]['duration']/1000\n",
    "                        move = int(encode_move_list([all_moves[turn]]))\n",
    "                        board_state = all_moves[:turn]\n",
    "                        black_code = int(encode_move_list(board_state[::2]))\n",
    "                        white_code = int(encode_move_list(board_state[1::2]))\n",
    "                        writer.writerow([black_code,white_code,\"Black\",move,response_time,player])"
   ]
  },
  {
   "cell_type": "markdown",
   "id": "46191d71",
   "metadata": {},
   "source": [
    "## Analysis"
   ]
  },
  {
   "cell_type": "code",
   "execution_count": 3,
   "id": "66d2abba",
   "metadata": {},
   "outputs": [],
   "source": [
    "def sorted_alphanumeric(data):\n",
    "    convert = lambda text: int(text) if text.isdigit() else text.lower()\n",
    "    alphanum_key = lambda key: [ convert(c) for c in re.split('([0-9]+)', key) ] \n",
    "    return sorted(data, key=alphanum_key)"
   ]
  },
  {
   "cell_type": "code",
   "execution_count": 360,
   "id": "9e8b03ce",
   "metadata": {},
   "outputs": [],
   "source": [
    "# Load in the model metrics per user\n",
    "depths_user = []\n",
    "iterations_user = []\n",
    "gaps_user = []\n",
    "rts_user = []\n",
    "pieces_user = []\n",
    "\n",
    "# Path for users\n",
    "path = 'output_depth_new'\n",
    "\n",
    "# Loop over all users and files\n",
    "for username in sorted_alphanumeric(os.listdir(path)):\n",
    "    if username != \".DS_Store\":\n",
    "        user_path = os.path.join(path, username)\n",
    "        curr_depths = []\n",
    "        curr_iterations = []\n",
    "        curr_gaps = []\n",
    "        curr_rts = []\n",
    "        curr_pieces = []\n",
    "        for filename in sorted(os.listdir(user_path)):\n",
    "            if filename.endswith(\"depth.csv\"): \n",
    "                full_path = os.path.join(user_path, filename)\n",
    "                curr_vars = pd.read_csv(full_path, header=None)\n",
    "                curr_vars_list = curr_vars.values[0]\n",
    "                curr_depths.extend(curr_vars_list)\n",
    "            if filename.endswith(\"iterations.csv\"): \n",
    "                full_path = os.path.join(user_path, filename)\n",
    "                curr_vars = pd.read_csv(full_path, header=None)\n",
    "                curr_vars_list = curr_vars.values[0]\n",
    "                curr_iterations.extend(curr_vars_list)\n",
    "            if filename.endswith(\"gap.csv\"): \n",
    "                full_path = os.path.join(user_path, filename)\n",
    "                curr_vars = pd.read_csv(full_path, header=None)\n",
    "                curr_vars_list = curr_vars.values[0]\n",
    "                curr_gaps.extend(curr_vars_list)\n",
    "            if filename.endswith(\"rts.csv\"): \n",
    "                full_path = os.path.join(user_path, filename)\n",
    "                curr_vars = pd.read_csv(full_path, header=None)\n",
    "                curr_vars_list = curr_vars.values[0]\n",
    "                curr_rts.extend(curr_vars_list)\n",
    "            if filename.endswith(\"pieces.csv\"): \n",
    "                full_path = os.path.join(user_path, filename)\n",
    "                curr_vars = pd.read_csv(full_path, header=None)\n",
    "                curr_vars_list = curr_vars.values[0]\n",
    "                curr_pieces.extend(curr_vars_list)\n",
    "        depths_user.append(curr_depths)\n",
    "        iterations_user.append(curr_iterations)\n",
    "        gaps_user.append(curr_gaps)\n",
    "        rts_user.append(curr_rts)\n",
    "        pieces_user.append(curr_pieces)"
   ]
  },
  {
   "cell_type": "code",
   "execution_count": 5,
   "id": "13971587",
   "metadata": {},
   "outputs": [],
   "source": [
    "# Compute a correlation per user\n",
    "corrs_movesgap = []\n",
    "for i in range(100):\n",
    "    corr = st.spearmanr(pieces_user[i], gaps_user[i])[0]\n",
    "    corrs_movesgap.append(corr)"
   ]
  },
  {
   "cell_type": "code",
   "execution_count": 199,
   "id": "9fadbbdf",
   "metadata": {},
   "outputs": [
    {
     "data": {
      "text/plain": [
       "(array([ 5,  6, 21, 24, 25, 26, 37, 39, 42, 65, 66, 69, 74, 77, 78, 79, 85,\n",
       "        88, 89, 98]),)"
      ]
     },
     "execution_count": 199,
     "metadata": {},
     "output_type": "execute_result"
    }
   ],
   "source": [
    "# Find users with high corelation\n",
    "np.where(np.asarray(corrs_movesgap) > .6)"
   ]
  },
  {
   "cell_type": "code",
   "execution_count": 361,
   "id": "9d34b447",
   "metadata": {},
   "outputs": [
    {
     "name": "stdout",
     "output_type": "stream",
     "text": [
      "SpearmanrResult(correlation=0.6208134846979707, pvalue=2.7916837434752546e-16)\n",
      "0.041008189909584464 0.6218187397148748\n"
     ]
    }
   ],
   "source": [
    "# Compute a regression line between moves and gap for a single\n",
    "i = 77\n",
    "print(st.spearmanr(pieces_user[i], gaps_user[i]))\n",
    "\n",
    "def regression(m,x,b):\n",
    "    return m * x + b\n",
    "\n",
    "slope, intercept = np.polyfit(pieces_user[i], gaps_user[i], 1)\n",
    "print(slope, intercept)"
   ]
  },
  {
   "cell_type": "code",
   "execution_count": 324,
   "id": "4039ef46",
   "metadata": {},
   "outputs": [
    {
     "data": {
      "image/png": "[encoded data removed]",
      "text/plain": [
       "<Figure size 288x288 with 1 Axes>"
      ]
     },
     "metadata": {
      "needs_background": "light"
     },
     "output_type": "display_data"
    }
   ],
   "source": [
    "# Plot the moves and gap for a single user as a scatterplot\n",
    "fig, ax = plt.subplots(figsize=(4,4))\n",
    "\n",
    "plt.scatter(pieces_user[i], gaps_user[i], color='lightslategray', alpha=0.2)\n",
    "plt.plot(pieces_user[i], regression(np.asarray(pieces_user[i]), slope, intercept),color='lightslategray',lw=3)\n",
    "plt.xlabel('Move number')\n",
    "plt.ylabel('Gap between the top two\\nactions')\n",
    "ax.set_xticks([0, 10, 20, 30])\n",
    "ax.set_xlim(-1, 36)\n",
    "ax.set_yticks([0, 2, 4])\n",
    "ax.set_ylim(-.25, 4.25)\n",
    "ax.spines['top'].set_visible(False)\n",
    "ax.spines['right'].set_visible(False)\n",
    "\n",
    "# plt.savefig('5B.png', format='png', dpi=1000,bbox_inches = 'tight')"
   ]
  },
  {
   "cell_type": "code",
   "execution_count": 325,
   "id": "38c2ac12",
   "metadata": {},
   "outputs": [
    {
     "data": {
      "image/png": "[encoded data removed]",
      "text/plain": [
       "<Figure size 288x288 with 1 Axes>"
      ]
     },
     "metadata": {
      "needs_background": "light"
     },
     "output_type": "display_data"
    }
   ],
   "source": [
    "# Plot the correlations as a histogram\n",
    "fig, ax = plt.subplots(figsize=(4,4))\n",
    "\n",
    "ax.bar(np.arange(1,101),np.sort(corrs_movesgap), color='lightslategray')\n",
    "# ax.hlines(0,0,105,linewidth=2,linestyle='--',color='black')\n",
    "ax.set_xlabel('User')\n",
    "ax.set_ylabel('Correlation moves/gap')\n",
    "# ax.set_xlim(-0.6,0.6)\n",
    "ax.set_xticks([1,50,100])\n",
    "ax.set_yticks([0, 0.2, 0.4, 0.6, 0.8])\n",
    "# ax.set_ylim(0,38)\n",
    "ax.spines['top'].set_visible(False)\n",
    "ax.spines['right'].set_visible(False)\n",
    "\n",
    "# plt.savefig('5C.png', format='png', dpi=1000,bbox_inches = 'tight')"
   ]
  },
  {
   "cell_type": "code",
   "execution_count": 349,
   "id": "3aee0827",
   "metadata": {},
   "outputs": [],
   "source": [
    "# Flatten all of the lists of lists\n",
    "pieces_user = list(itertools.chain.from_iterable(pieces_user))\n",
    "gaps_user = list(itertools.chain.from_iterable(gaps_user))\n",
    "rts_user = list(itertools.chain.from_iterable(rts_user))\n",
    "depths_user = np.asarray(list(itertools.chain.from_iterable(depths_user)))\n",
    "iterations_user = np.asarray(list(itertools.chain.from_iterable(iterations_user)))"
   ]
  },
  {
   "cell_type": "code",
   "execution_count": 337,
   "id": "5bd852c9",
   "metadata": {},
   "outputs": [
    {
     "data": {
      "text/plain": [
       "SpearmanrResult(correlation=-0.19694857208132116, pvalue=6.269048865502798e-10)"
      ]
     },
     "execution_count": 337,
     "metadata": {},
     "output_type": "execute_result"
    }
   ],
   "source": [
    "# Compute the correlation between gaps and rt for move 12\n",
    "idx12 = np.where((np.asarray(pieces_user) == 12) & (np.asarray(gaps_user) < 10))\n",
    "rts12 = np.asarray(rts_user)[idx12]\n",
    "gaps12 = np.asarray(gaps_user)[idx12]\n",
    "st.spearmanr(gaps12, rts12)"
   ]
  },
  {
   "cell_type": "code",
   "execution_count": 338,
   "id": "82cf3b62",
   "metadata": {},
   "outputs": [
    {
     "data": {
      "text/plain": [
       "SpearmanrResult(correlation=-0.2828443710351639, pvalue=7.651251052324619e-08)"
      ]
     },
     "execution_count": 338,
     "metadata": {},
     "output_type": "execute_result"
    }
   ],
   "source": [
    "# Compute the correlation between gaps and rt for move 18\n",
    "idx18 = np.where((np.asarray(pieces_user) == 18) & (np.asarray(gaps_user) < 10))\n",
    "rts18 = np.asarray(rts_user)[idx18]\n",
    "gaps18 = np.asarray(gaps_user)[idx18]\n",
    "st.spearmanr(gaps18, rts18)"
   ]
  },
  {
   "cell_type": "code",
   "execution_count": 339,
   "id": "44a4aca8",
   "metadata": {},
   "outputs": [
    {
     "data": {
      "text/plain": [
       "SpearmanrResult(correlation=-0.32752694963961476, pvalue=3.5862489146110894e-05)"
      ]
     },
     "execution_count": 339,
     "metadata": {},
     "output_type": "execute_result"
    }
   ],
   "source": [
    "# Compute the correlation between gaps and rt for move 24\n",
    "idx24 = np.where((np.asarray(pieces_user) == 24) & (np.asarray(gaps_user) < 10))\n",
    "rts24 = np.asarray(rts_user)[idx24]\n",
    "gaps24 = np.asarray(gaps_user)[idx24]\n",
    "st.spearmanr(gaps24, rts24)"
   ]
  },
  {
   "cell_type": "code",
   "execution_count": 340,
   "id": "642d9e22",
   "metadata": {},
   "outputs": [],
   "source": [
    "# Compute the corresponding regression lines\n",
    "slope12, intercept12 = np.polyfit(gaps12, np.log(rts12), 1)\n",
    "slope18, intercept18 = np.polyfit(gaps18, np.log(rts18), 1)\n",
    "slope24, intercept24 = np.polyfit(gaps24, np.log(rts24), 1)"
   ]
  },
  {
   "cell_type": "code",
   "execution_count": 341,
   "id": "f088452e",
   "metadata": {},
   "outputs": [
    {
     "name": "stdout",
     "output_type": "stream",
     "text": [
      "-0.06606686295429397 1.148464877556297\n",
      "-0.09009691631365309 1.3040636764834512\n",
      "-0.13920678320585628 1.4273800019824014\n"
     ]
    }
   ],
   "source": [
    "print(slope12, intercept12)\n",
    "print(slope18, intercept18)\n",
    "print(slope24, intercept24)"
   ]
  },
  {
   "cell_type": "code",
   "execution_count": 356,
   "id": "9d888e39",
   "metadata": {},
   "outputs": [
    {
     "data": {
      "image/png": "[encoded data removed]",
      "text/plain": [
       "<Figure size 288x288 with 1 Axes>"
      ]
     },
     "metadata": {
      "needs_background": "light"
     },
     "output_type": "display_data"
    }
   ],
   "source": [
    "# Plot\n",
    "fig, ax = plt.subplots(figsize=(4,4))\n",
    "\n",
    "plt.scatter(gaps12, np.log(rts12), color='black', alpha=0.2)\n",
    "plt.plot(gaps12, regression(gaps12, slope12, intercept12),color='black',lw=3)\n",
    "plt.xlabel('Gap between the top two\\nactions')\n",
    "plt.ylabel('Log response time')\n",
    "# plt.xscale('log')\n",
    "# plt.yscale('log')\n",
    "ax.set_xticks([0, 5, 10])\n",
    "ax.set_yticks([0, 1, 2, 3])\n",
    "# ax.set_xlim(-10,1000)\n",
    "ax.set_xlim(-.5, 10)\n",
    "ax.set_ylim(-.5, 3)\n",
    "ax.spines['top'].set_visible(False)\n",
    "ax.spines['right'].set_visible(False)\n",
    "plt.minorticks_off()\n",
    "\n",
    "# plt.savefig('5D_left.png', format='png', dpi=1000,bbox_inches = 'tight')"
   ]
  },
  {
   "cell_type": "code",
   "execution_count": 357,
   "id": "1a7ae66c",
   "metadata": {},
   "outputs": [
    {
     "data": {
      "image/png": "[encoded data removed]",
      "text/plain": [
       "<Figure size 288x288 with 1 Axes>"
      ]
     },
     "metadata": {
      "needs_background": "light"
     },
     "output_type": "display_data"
    }
   ],
   "source": [
    "# Plot\n",
    "fig, ax = plt.subplots(figsize=(4,4))\n",
    "\n",
    "plt.scatter(gaps18, np.log(rts18), color='firebrick', alpha=0.2)\n",
    "plt.plot(gaps18, regression(gaps18, slope18, intercept18),color='firebrick',lw=3)\n",
    "plt.xlabel('Gap between the top two\\nactions')\n",
    "plt.ylabel('Log response time')\n",
    "# plt.xscale('log')\n",
    "# plt.yscale('log')\n",
    "ax.set_xticks([0, 5, 10])\n",
    "ax.set_yticks([0, 1, 2, 3])\n",
    "# ax.set_xlim(-10,1000)\n",
    "ax.set_xlim(-.5, 10)\n",
    "ax.set_ylim(-.5, 3)\n",
    "ax.spines['top'].set_visible(False)\n",
    "ax.spines['right'].set_visible(False)\n",
    "plt.minorticks_off()\n",
    "\n",
    "# plt.savefig('5D_middle.png', format='png', dpi=1000,bbox_inches = 'tight')"
   ]
  },
  {
   "cell_type": "code",
   "execution_count": 358,
   "id": "fee7bc9b",
   "metadata": {},
   "outputs": [
    {
     "data": {
      "image/png": "[encoded data removed]",
      "text/plain": [
       "<Figure size 288x288 with 1 Axes>"
      ]
     },
     "metadata": {
      "needs_background": "light"
     },
     "output_type": "display_data"
    }
   ],
   "source": [
    "# Plot\n",
    "fig, ax = plt.subplots(figsize=(4,4))\n",
    "\n",
    "plt.scatter(gaps24, np.log(rts24), color='salmon', alpha=0.2)\n",
    "plt.plot(gaps24, regression(gaps24, slope24, intercept24),color='salmon',lw=3)\n",
    "plt.xlabel('Gap between the top two\\nactions')\n",
    "plt.ylabel('Log response time')\n",
    "# plt.xscale('log')\n",
    "# plt.yscale('log')\n",
    "ax.set_xticks([0, 5, 10])\n",
    "ax.set_yticks([0, 1, 2, 3])\n",
    "# ax.set_xlim(-10,1000)\n",
    "ax.set_xlim(-.5, 10)\n",
    "ax.set_ylim(-.5, 3)\n",
    "ax.spines['top'].set_visible(False)\n",
    "ax.spines['right'].set_visible(False)\n",
    "plt.minorticks_off()\n",
    "\n",
    "# plt.savefig('5D_right.png', format='png', dpi=1000,bbox_inches = 'tight')"
   ]
  },
  {
   "cell_type": "code",
   "execution_count": 350,
   "id": "a0402a36",
   "metadata": {},
   "outputs": [],
   "source": [
    "# Compute rts/depth by move number\n",
    "user_moves = np.zeros(36)\n",
    "model_moves = np.zeros(36)\n",
    "iteration_moves = np.zeros(36)\n",
    "count = np.zeros(36)\n",
    "\n",
    "for i in range(len(pieces_user)):\n",
    "    idx = int(pieces_user[i])\n",
    "    user_moves[idx] += rts_user[i]\n",
    "    model_moves[idx] += depths_user[i]\n",
    "    iteration_moves[idx] += iterations_user[i]\n",
    "    count[idx] += 1"
   ]
  },
  {
   "cell_type": "code",
   "execution_count": 351,
   "id": "2ac12c1c",
   "metadata": {},
   "outputs": [],
   "source": [
    "user_norm = st.zscore(user_moves[0::2]/count[0::2])\n",
    "model_norm = st.zscore(model_moves[0::2]/count[0::2])\n",
    "iterations_norm = st.zscore(iteration_moves[0::2]/count[0::2])"
   ]
  },
  {
   "cell_type": "code",
   "execution_count": 354,
   "id": "be813061",
   "metadata": {},
   "outputs": [
    {
     "data": {
      "image/png": "[encoded data removed]",
      "text/plain": [
       "<Figure size 288x216 with 1 Axes>"
      ]
     },
     "metadata": {
      "needs_background": "light"
     },
     "output_type": "display_data"
    }
   ],
   "source": [
    "# Plot\n",
    "fig, ax = plt.subplots(figsize=(4,3))\n",
    "ax.set_ylim(-3.5, 2.5)\n",
    "# ax.set_yticks([2,3,4,5])\n",
    "ax.plot(np.arange(1,37,2), user_norm, color='black', marker='o', ms=7, lw=3, label='human data')\n",
    "ax.plot(np.arange(1,37,2), iterations_norm, color='lightslategray', marker='o', ms=7, lw=3, label='planning model')\n",
    "# ax.fill_between(np.arange(1,37,2), user-user_sem, user+user_sem, alpha=0.2, color='black')\n",
    "ax.set_xlabel('Move number')\n",
    "ax.set_ylabel('Response time\\n(z-scored)')\n",
    "ax.spines['top'].set_visible(False)\n",
    "ax.spines['right'].set_visible(False)\n",
    "ax.legend(frameon = False, bbox_to_anchor=(1,1), loc='upper left')\n",
    "\n",
    "# plt.savefig('6A.png', format='png', dpi=1000,bbox_inches = 'tight')"
   ]
  },
  {
   "cell_type": "code",
   "execution_count": null,
   "id": "cf0d0cb3",
   "metadata": {},
   "outputs": [],
   "source": []
  }
 ],
 "metadata": {
  "kernelspec": {
   "display_name": "Python 3",
   "language": "python",
   "name": "python3"
  },
  "language_info": {
   "codemirror_mode": {
    "name": "ipython",
    "version": 3
   },
   "file_extension": ".py",
   "mimetype": "text/x-python",
   "name": "python",
   "nbconvert_exporter": "python",
   "pygments_lexer": "ipython3",
   "version": "3.7.3"
  }
 },
 "nbformat": 4,
 "nbformat_minor": 5
}
